{
    "cells": [
        {
            "metadata": {},
            "cell_type": "markdown",
            "source": "# Description\nThis notebook analyzie and visulalize precipitaion data."
        },
        {
            "metadata": {},
            "cell_type": "code",
            "source": "\nimport os, types\nimport pandas as pd\nfrom botocore.client import Config\nimport ibm_boto3\n\ndef __iter__(self): return 0\n\n# @hidden_cell\n# The following code accesses a file in your IBM Cloud Object Storage. It includes your credentials.\n# You might want to remove those credentials before you share the notebook.\ncos_client = ibm_boto3.client(service_name='s3',\n    ibm_api_key_id='2xiu0-UAcacQtF86xGLyUvCRku6etGuNb556swUbTsKT',\n    ibm_auth_endpoint=\"https://iam.cloud.ibm.com/oidc/token\",\n    config=Config(signature_version='oauth'),\n    endpoint_url='https://s3.private.eu.cloud-object-storage.appdomain.cloud')\n\nbucket = 'firstproject-donotdelete-pr-1yyn4aw84cgeim'\nobject_key = 'top-500-movies.csv'\n\nbody = cos_client.get_object(Bucket=bucket,Key=object_key)['Body']\n# add missing __iter__ method, so pandas accepts body as file-like object\nif not hasattr(body, \"__iter__\"): body.__iter__ = types.MethodType( __iter__, body )\n\ndf_data_1 = pd.read_csv(body)\ndf_data_1.head()\n",
            "execution_count": 2,
            "outputs": [
                {
                    "output_type": "execute_result",
                    "execution_count": 2,
                    "data": {
                        "text/plain": "   rank release_date                                        title  \\\n0     1   2019-04-23                            Avengers: Endgame   \n1     2   2011-05-20  Pirates of the Caribbean: On Stranger Tides   \n2     3   2015-04-22                      Avengers: Age of Ultron   \n3     4   2015-12-16         Star Wars Ep. VII: The Force Awakens   \n4     5   2018-04-25                       Avengers: Infinity War   \n\n                                                 url  production_cost  \\\n0         /movie/Avengers-Endgame-(2019)#tab=summary        400000000   \n1  /movie/Pirates-of-the-Caribbean-On-Stranger-Ti...        379000000   \n2          /movie/Avengers-Age-of-Ultron#tab=summary        365000000   \n3  /movie/Star-Wars-Ep-VII-The-Force-Awakens#tab=...        306000000   \n4           /movie/Avengers-Infinity-War#tab=summary        300000000   \n\n   domestic_gross  worldwide_gross  opening_weekend   mpaa      genre  \\\n0       858373000       2797800564      357115007.0  PG-13     Action   \n1       241071802       1045713802       90151958.0  PG-13  Adventure   \n2       459005868       1395316979      191271109.0  PG-13     Action   \n3       936662225       2064615817      247966675.0  PG-13  Adventure   \n4       678815482       2048359754      257698183.0  PG-13     Action   \n\n   theaters  runtime    year  \n0    4662.0    181.0  2019.0  \n1    4164.0    136.0  2011.0  \n2    4276.0    141.0  2015.0  \n3    4134.0    136.0  2015.0  \n4    4474.0    156.0  2018.0  ",
                        "text/html": "<div>\n<style scoped>\n    .dataframe tbody tr th:only-of-type {\n        vertical-align: middle;\n    }\n\n    .dataframe tbody tr th {\n        vertical-align: top;\n    }\n\n    .dataframe thead th {\n        text-align: right;\n    }\n</style>\n<table border=\"1\" class=\"dataframe\">\n  <thead>\n    <tr style=\"text-align: right;\">\n      <th></th>\n      <th>rank</th>\n      <th>release_date</th>\n      <th>title</th>\n      <th>url</th>\n      <th>production_cost</th>\n      <th>domestic_gross</th>\n      <th>worldwide_gross</th>\n      <th>opening_weekend</th>\n      <th>mpaa</th>\n      <th>genre</th>\n      <th>theaters</th>\n      <th>runtime</th>\n      <th>year</th>\n    </tr>\n  </thead>\n  <tbody>\n    <tr>\n      <th>0</th>\n      <td>1</td>\n      <td>2019-04-23</td>\n      <td>Avengers: Endgame</td>\n      <td>/movie/Avengers-Endgame-(2019)#tab=summary</td>\n      <td>400000000</td>\n      <td>858373000</td>\n      <td>2797800564</td>\n      <td>357115007.0</td>\n      <td>PG-13</td>\n      <td>Action</td>\n      <td>4662.0</td>\n      <td>181.0</td>\n      <td>2019.0</td>\n    </tr>\n    <tr>\n      <th>1</th>\n      <td>2</td>\n      <td>2011-05-20</td>\n      <td>Pirates of the Caribbean: On Stranger Tides</td>\n      <td>/movie/Pirates-of-the-Caribbean-On-Stranger-Ti...</td>\n      <td>379000000</td>\n      <td>241071802</td>\n      <td>1045713802</td>\n      <td>90151958.0</td>\n      <td>PG-13</td>\n      <td>Adventure</td>\n      <td>4164.0</td>\n      <td>136.0</td>\n      <td>2011.0</td>\n    </tr>\n    <tr>\n      <th>2</th>\n      <td>3</td>\n      <td>2015-04-22</td>\n      <td>Avengers: Age of Ultron</td>\n      <td>/movie/Avengers-Age-of-Ultron#tab=summary</td>\n      <td>365000000</td>\n      <td>459005868</td>\n      <td>1395316979</td>\n      <td>191271109.0</td>\n      <td>PG-13</td>\n      <td>Action</td>\n      <td>4276.0</td>\n      <td>141.0</td>\n      <td>2015.0</td>\n    </tr>\n    <tr>\n      <th>3</th>\n      <td>4</td>\n      <td>2015-12-16</td>\n      <td>Star Wars Ep. VII: The Force Awakens</td>\n      <td>/movie/Star-Wars-Ep-VII-The-Force-Awakens#tab=...</td>\n      <td>306000000</td>\n      <td>936662225</td>\n      <td>2064615817</td>\n      <td>247966675.0</td>\n      <td>PG-13</td>\n      <td>Adventure</td>\n      <td>4134.0</td>\n      <td>136.0</td>\n      <td>2015.0</td>\n    </tr>\n    <tr>\n      <th>4</th>\n      <td>5</td>\n      <td>2018-04-25</td>\n      <td>Avengers: Infinity War</td>\n      <td>/movie/Avengers-Infinity-War#tab=summary</td>\n      <td>300000000</td>\n      <td>678815482</td>\n      <td>2048359754</td>\n      <td>257698183.0</td>\n      <td>PG-13</td>\n      <td>Action</td>\n      <td>4474.0</td>\n      <td>156.0</td>\n      <td>2018.0</td>\n    </tr>\n  </tbody>\n</table>\n</div>"
                    },
                    "metadata": {}
                }
            ]
        },
        {
            "metadata": {},
            "cell_type": "code",
            "source": "",
            "execution_count": null,
            "outputs": []
        }
    ],
    "metadata": {
        "kernelspec": {
            "name": "python3",
            "display_name": "Python 3.9",
            "language": "python"
        },
        "language_info": {
            "name": "python",
            "version": "3.9.13",
            "mimetype": "text/x-python",
            "codemirror_mode": {
                "name": "ipython",
                "version": 3
            },
            "pygments_lexer": "ipython3",
            "nbconvert_exporter": "python",
            "file_extension": ".py"
        }
    },
    "nbformat": 4,
    "nbformat_minor": 1
}